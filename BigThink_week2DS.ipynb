{
 "cells": [
  {
   "cell_type": "code",
   "execution_count": null,
   "metadata": {},
   "outputs": [],
   "source": [
    "import pandas as pd\n",
    "import matplotlib.pyplot as plt\n",
    "import seaborn as sns\n",
    "import numpy as np"
   ]
  },
  {
   "cell_type": "markdown",
   "metadata": {},
   "source": [
    "## The dataset\n",
    "\n",
    "The dataset `data/chip_plants.txt` is a table of chip manufacturing plants taken from [Wikipedia](https://en.wikipedia.org/wiki/List_of_semiconductor_fabrication_plants) and is in the [Wiki Markup](https://en.wikipedia.org/wiki/Help:Introduction_to_editing_with_Wiki_Markup/2) format. In this file, each cell starts with the character `|`, like this:\n",
    "\n",
    "~~~plain\n",
    "|[[Texas Instruments]]\n",
    "~~~\n",
    "\n",
    "Square brackets  (`[[]]`) represent links to Wikipedia pages. In the example above, the code directs you to [this page](https://en.wikipedia.org/wiki/Texas_Instruments).\n",
    "\n",
    "Each cell is on its own line, and table rows are demarcated by this code: `|-`. Thus,\n",
    "\n",
    "~~~plain\n",
    "|-\n",
    "|[[Texas Instruments]] (formerly [[Semiconductor Manufacturing International Corporation|SMIC]] - Cension)\n",
    "|Chengdu (CFAB)\n",
    "| China {{flagicon|China}}, Chengdu\n",
    "|\n",
    "|\n",
    "|200\n",
    "|\n",
    "|\n",
    "|\n",
    "|-\n",
    "|[[Tsinghua Holdings|Tsinghua Unigroup]]<ref name=\"eetasia.com\"/>\n",
    "|\n",
    "| China {{flagicon|China}}, Nanjing\n",
    "|10 (first phase), 30\n",
    "|Planned\n",
    "|300\n",
    "|\n",
    "|100,000 (first phase)\n",
    "|3D NAND Flash\n",
    "|-\n",
    "~~~\n",
    "\n",
    "produces this:\n",
    "\n",
    "![Table example](data/images/table_example.png)\n",
    "\n",
    "Finally, `<ref name=\"example.com\"/>` adds a footnote with a hyperlink (see the example in the second row above) and `{{flagicon|country_name}}` adds a country flag.\n",
    "\n",
    "The file has two columns - `line` is the actual Wikipedia cells and `id` is an identifier of the chip manufacturing plant."
   ]
  },
  {
   "cell_type": "markdown",
   "metadata": {},
   "source": []
  },
  {
   "cell_type": "markdown",
   "metadata": {},
   "source": [
    "## Import Data"
   ]
  },
  {
   "cell_type": "code",
   "execution_count": null,
   "metadata": {},
   "outputs": [],
   "source": [
    "import pandas as pd\n",
    "\n",
    "chips = pd.read_csv(r'/chip_plants.csv')\n",
    "chips.head()\n"
   ]
  },
  {
   "cell_type": "markdown",
   "metadata": {},
   "source": [
    "## Remove rows with extraneous information and blank spaces\n",
    "---\n",
    "[Series.str.strip()](https://docs.python.org/3/library/stdtypes.html#str.strip \"Documentation\") Return a copy of the string with the leading and trailing characters removed. The chars argument is a string specifying the set of characters to be removed. If omitted or None, the chars argument defaults to removing whitespace. "
   ]
  },
  {
   "cell_type": "code",
   "execution_count": null,
   "metadata": {},
   "outputs": [],
   "source": [
    "def remove_separators(chips):\n",
    "    \"\"\"\n",
    "    Removes all rows that consist of the separator `|-`\n",
    "    \n",
    "    Arguments:\n",
    "    `chips`: A pandas DataFrame\n",
    "    \n",
    "    Outputs:\n",
    "    `chips`: A pandas DataFrame (modified version of the input DataFrame)\n",
    "    \"\"\"\n",
    "    \n",
    "    # YOUR CODE HERE\n",
    "    chips['input_column'] = chips['input_column'].str.strip()\n",
    "    chips = chips[chips['input_column'] != 'string_to_remove']\n",
    "    \n",
    "    return chips\n"
   ]
  },
  {
   "cell_type": "code",
   "execution_count": null,
   "metadata": {},
   "outputs": [],
   "source": [
    "# Call function here and set to a variable"
   ]
  },
  {
   "cell_type": "markdown",
   "metadata": {},
   "source": [
    "[Series.str.replcace()](https://docs.python.org/3/library/stdtypes.html#str.replace \"Documentation\") Return a copy of the string with all occurrences of substring old replaced by new. If the optional argument count is given, only the first count occurrences are replaced.\n",
    "\n",
    "[pandas.DataFrame.assign()](https://pandas.pydata.org/docs/reference/api/pandas.DataFrame.assign.html \"Documentation\") Returns a new object with all original columns in addition to new ones. Existing columns that are re-assigned will be overwritten"
   ]
  },
  {
   "cell_type": "code",
   "execution_count": null,
   "metadata": {},
   "outputs": [],
   "source": [
    "def clean_cells(chips):\n",
    "    \"\"\"\n",
    "    Removes unwanted characters (|,[,]) from the `line` column after having\n",
    "    removed the rows that consist of the separator `|-`\n",
    "    \n",
    "    Arguments:\n",
    "    `chips`: A pandas DataFrame\n",
    "    \n",
    "    Outputs:\n",
    "    `chips`: A pandas DataFrame (modified version of the input DataFrame)\n",
    "    \"\"\"\n",
    "    chips = remove_separators(chips)\n",
    "    \n",
    "    # YOUR CODE HERE\n",
    "    pd.set_option('mode.chained_assignment',None)\n",
    "    remove_char = {'comma separated characters to remove'}\n",
    "    for char in remove_char:\n",
    "        chips['input_column'] = chips['input_column'].str.replace(char, '', regex=False)\n",
    "    chips['input_column'] = chips['input_column'].str.strip()\n",
    "    chips_line_clean = chips['input_column']\n",
    "    chips_line_clean = chips_line_clean.str.replace(r\"\\<.*\\>\", \"\", regex=True)\n",
    "    chips_line_clean = chips_line_clean.str.replace(r\"\\{.*\\}\", \"\", regex=True)\n",
    "    chips = chips.assign(line=chips_line_clean)\n",
    "    \n",
    "    return chips\n",
    "clean_cells(chips)"
   ]
  },
  {
   "cell_type": "code",
   "execution_count": null,
   "metadata": {},
   "outputs": [],
   "source": [
    "# Call function here and set to a variable"
   ]
  },
  {
   "cell_type": "markdown",
   "metadata": {},
   "source": [
    "## Recreate the original Wikipedia table\n",
    "\n",
    "Each table row in the Wikipedia dataset has to have exactly 9 columns:\n",
    "\n",
    "1. `company`\n",
    "2. `plant_name`\n",
    "3. `plant_location`\n",
    "4. `plant_cost_us_billions`\n",
    "5. `started_production`\n",
    "6. `wafer_size`\n",
    "7. `process_technology`\n",
    "8. `production_capacity`\n",
    "9. `technology_products`"
   ]
  },
  {
   "cell_type": "code",
   "execution_count": null,
   "metadata": {},
   "outputs": [],
   "source": [
    "def assign_column_names(chips):\n",
    "    \"\"\"\n",
    "    ---Description here---\n",
    "    \n",
    "    Arguments:\n",
    "    `input_variable`: data type\n",
    "    \n",
    "    Outputs:\n",
    "    `output_variable`: data type and content discription\n",
    "    \"\"\"\n",
    "       \n",
    "    chips = clean_cells(chips)\n",
    "\n",
    "    # YOUR CODE HERE\n",
    "    col_names = []\n",
    "    \n",
    "    chips['columns'] = col_names*int((chips.shape[0]/len(col_names)))\n",
    "    return chips\n"
   ]
  },
  {
   "cell_type": "code",
   "execution_count": null,
   "metadata": {},
   "outputs": [],
   "source": [
    "# Call the function here"
   ]
  },
  {
   "cell_type": "markdown",
   "metadata": {},
   "source": [
    "[pandas.pivot()](https://pandas.pydata.org/docs/reference/api/pandas.pivot.html \"Documentation\") Reshape data (produce a “pivot” table) based on column values. Uses unique values from specified index / columns to form axes of the resulting DataFrame. "
   ]
  },
  {
   "cell_type": "code",
   "execution_count": null,
   "metadata": {},
   "outputs": [],
   "source": [
    "# Use assign_column_names(df) with .pivot() to produce original table"
   ]
  },
  {
   "cell_type": "markdown",
   "metadata": {},
   "source": [
    "## Creating a function to output our pivoted dataframe"
   ]
  },
  {
   "cell_type": "code",
   "execution_count": null,
   "metadata": {},
   "outputs": [],
   "source": [
    "def make_df_wide(chips):\n",
    "    \"\"\"\n",
    "    ---Description here---\n",
    "    \n",
    "    Arguments:\n",
    "    `input_variable`: data type\n",
    "    \n",
    "    Outputs:\n",
    "    `output_variable`: data type and content discription\n",
    "    \"\"\"\n",
    "    chips = assign_column_names(chips)\n",
    "    \n",
    "    # YOUR CODE HERE\n",
    "    chips = chips.pivot(index='id', columns=\"columns\",values= 'line')\n",
    "    chips.to_csv(r'file_path/file_name',index=False)"
   ]
  },
  {
   "cell_type": "markdown",
   "metadata": {},
   "source": [
    "### Checking for Missing Data"
   ]
  },
  {
   "cell_type": "markdown",
   "metadata": {},
   "source": [
    "[glob.glob()](https://docs.python.org/3/library/glob.html \"Documentation\") Return a possibly-empty list of path names that match pathname, which must be a string containing a path specification.\n",
    "\n",
    "[pandas.concat()](https://pandas.pydata.org/docs/reference/api/pandas.concat.html \"Documentation\") Concatenate pandas objects along a particular axis with optional set logic along the other axes."
   ]
  },
  {
   "cell_type": "code",
   "execution_count": null,
   "metadata": {},
   "outputs": [],
   "source": [
    "import pandas as pd\n",
    "import glob\n",
    "\n",
    "\n",
    "\n",
    "def concat_csv(path):\n",
    "    \"\"\"\n",
    "    ---Description here---\n",
    "    \n",
    "    Arguments:\n",
    "    `input_variable`: data type\n",
    "    \n",
    "    Outputs:\n",
    "    `output_variable`: data type and content discription\n",
    "    \"\"\"\n",
    "    \n",
    "    all_files = glob.glob(path + \"/*.csv\")\n",
    "    li = []\n",
    "    for filename in all_files:\n",
    "        df = pd.read_csv(filename, index_col=None, header=0)\n",
    "        li.append(df)\n",
    "    frame = pd.concat(li, axis=0, ignore_index=True)\n",
    "    return frame\n"
   ]
  },
  {
   "cell_type": "code",
   "execution_count": null,
   "metadata": {},
   "outputs": [],
   "source": [
    "# Set path string to a variable\n",
    "path = r'/BigThinkFiles'\n",
    "# Call function and set to a variable"
   ]
  },
  {
   "cell_type": "markdown",
   "metadata": {},
   "source": [
    "[DataFrame.isnull()](https://docs.python.org/3/library/glob.html \"Documentation\") Detect missing values.\n",
    "\n",
    "[DataFrame.sum()](https://pandas.pydata.org/docs/reference/api/pandas.DataFrame.sum.html \"Documentation\") Return the sum of the values over the requested axis.\n",
    "\n",
    "[DataFrame.sort_values()](https://pandas.pydata.org/docs/reference/api/pandas.DataFrame.sort_values.html \"Documentation\") Sort by the values along either axis."
   ]
  },
  {
   "cell_type": "code",
   "execution_count": null,
   "metadata": {},
   "outputs": [],
   "source": [
    "def missing_data(frame):\n",
    "    \"\"\"\n",
    "    ---Description here---\n",
    "    \n",
    "    Arguments:\n",
    "    `input_variable`: data type\n",
    "    \n",
    "    Outputs:\n",
    "    `output_variable`: data type and content discription\n",
    "    \"\"\"\n",
    "    \n",
    "    percent_missing = frame.isnull().sum() * 100 / len(frame)\n",
    "    missing_value_df = pd.DataFrame({'column_name': frame.columns,\n",
    "                                    'percent_missing': percent_missing})\n",
    "    missing_value_df.sort_values('percent_missing', inplace=True)\n",
    "\n",
    "    return missing_value_df"
   ]
  },
  {
   "cell_type": "code",
   "execution_count": null,
   "metadata": {},
   "outputs": [],
   "source": [
    "# Apply missing_data(df) to the concatinated dataframe"
   ]
  },
  {
   "cell_type": "markdown",
   "metadata": {},
   "source": [
    "## Import \"listing_complaints.csv\"\n",
    "---\n",
    "This data set contains counts of air quality complaints from resident in NYC per Borough, UHF 42 district, and year\n"
   ]
  },
  {
   "cell_type": "code",
   "execution_count": null,
   "metadata": {},
   "outputs": [],
   "source": [
    "airQ_complaints = pd.read_csv(r'/listing_complaints.csv')"
   ]
  },
  {
   "cell_type": "code",
   "execution_count": null,
   "metadata": {},
   "outputs": [],
   "source": [
    "# Apply missing_data(df) to the listing_complaints\n"
   ]
  }
 ],
 "metadata": {
  "interpreter": {
   "hash": "b3ba2566441a7c06988d0923437866b63cedc61552a5af99d1f4fb67d367b25f"
  },
  "kernelspec": {
   "display_name": "Python 3.8.3 ('base')",
   "language": "python",
   "name": "python3"
  },
  "language_info": {
   "codemirror_mode": {
    "name": "ipython",
    "version": 3
   },
   "file_extension": ".py",
   "mimetype": "text/x-python",
   "name": "python",
   "nbconvert_exporter": "python",
   "pygments_lexer": "ipython3",
   "version": "3.8.3"
  },
  "orig_nbformat": 4
 },
 "nbformat": 4,
 "nbformat_minor": 2
}
