{
 "cells": [
  {
   "cell_type": "code",
   "execution_count": 5,
   "source": [
    "from numpy import random as np_r\r\n",
    "\r\n",
    "def rollDice(player_array): \r\n",
    "    \r\n",
    "    if len(player_array)==4:\r\n",
    "        limit = 3 if player_array[0]>=3 else player_array[0]\r\n",
    "    else:\r\n",
    "        limit = 2 if player_array[0]>=2 else player_array[0]\r\n",
    "    \r\n",
    "    for i in range(limit):\r\n",
    "        if (player_array[i+1] != -1):\r\n",
    "            player_array[i+1] = np_r.randint(1,6)\r\n",
    "    \r\n",
    "    return player_array\r\n",
    "    \r\n"
   ],
   "outputs": [],
   "metadata": {}
  },
  {
   "cell_type": "code",
   "execution_count": 6,
   "source": [
    " \r\n",
    "def  playGame(atk_array, def_array):\r\n",
    "    \r\n",
    "    #limit = len(def_array[1:][def_array[1:] != -1])\r\n",
    "    #for i in range(limit):\r\n",
    "    atk_max = max(atk_array[1:])\r\n",
    "    def_max = max(def_array[1:])\r\n",
    "    unit_atk = atk_array[0]# endA_index = atk_array[0] - 4\r\n",
    "    unit_def = def_array[0]# endD_index = def_array[0] - 3\r\n",
    "\r\n",
    "    if atk_max > def_max:\r\n",
    "        def_array[0] = unit_def - 1\r\n",
    "        if (unit_def <= 2):\r\n",
    "            def_array[unit_def-3] = -1\r\n",
    "            print(def_array[0])\r\n",
    "\r\n",
    "    elif def_max > atk_max or def_max == atk_max:\r\n",
    "        atk_array[0] = unit_atk - 1\r\n",
    "        print(atk_array[0],\"check inside defense greater\")\r\n",
    "        if (unit_atk <= 3):    \r\n",
    "            atk_array[unit_atk-4] = -1\r\n",
    "            print(atk_array[0])\r\n",
    "\r\n",
    "\r\n"
   ],
   "outputs": [],
   "metadata": {}
  },
  {
   "cell_type": "code",
   "execution_count": 1,
   "source": [
    "import numpy as np\r\n",
    "\r\n",
    "\r\n",
    "input_units = int(input('Enter number of units: '))\r\n",
    "print('Starting number of units: ',input_units)\r\n",
    "atk_array = [input_units,None,None,None]\r\n",
    "def_array = [input_units,None,None]\r\n",
    "\r\n",
    "while True:\r\n",
    "    \r\n",
    "    stay_in_game = input('Continue Attack (Y/N):')\r\n",
    "    if str.lower(stay_in_game) != 'y':\r\n",
    "        print(\"\\033[1m\" + \"Attacker Forfeited\\nGame Ended\")\r\n",
    "        break\r\n",
    "    else: \r\n",
    "        # Roll Dice \r\n",
    "        atk_array = np.array(rollDice(atk_array))\r\n",
    "        def_array = np.array(rollDice(def_array))\r\n",
    "     \r\n",
    "        print(\"-------------------------------\")\r\n",
    "        print(\"Attacker:\\nDice-> \" f\"[{atk_array[1]},{atk_array[2]},{atk_array[3]}]\")\r\n",
    "        print(\"Max-> \", max(atk_array[1:]))\r\n",
    "        print(\"Defender:\\nDice-> \" f\"[{def_array[1]},{def_array[2]}]\")\r\n",
    "        print(\"Max-> \", max(def_array[1:]))\r\n",
    "        \r\n",
    "        # Play Game\r\n",
    "        playGame(atk_array,def_array)\r\n",
    "        print(\"-------------------------------\")\r\n",
    "        print(f\"Attacker Units: {atk_array[0]}\")\r\n",
    "        print(f\"Defender Units: {def_array[0]}\")\r\n",
    "        print(\"*******************************\")\r\n",
    "        if atk_array[0] == 0:\r\n",
    "            print(\"\\033[1m\" + \"Defender Wins\\nGame Ended\")\r\n",
    "            break\r\n",
    "        elif def_array[0] == 0:\r\n",
    "            print(\"\\033[1m\" + \"Attacker Wins\\nGame Ended\")\r\n",
    "            break\r\n",
    "    \r\n",
    "    \r\n",
    "    \r\n",
    "    \r\n",
    "\r\n"
   ],
   "outputs": [],
   "metadata": {}
  },
  {
   "cell_type": "code",
   "execution_count": null,
   "source": [],
   "outputs": [],
   "metadata": {}
  }
 ],
 "metadata": {
  "kernelspec": {
   "name": "python3",
   "display_name": "Python 3.8.3 64-bit ('base': conda)"
  },
  "language_info": {
   "codemirror_mode": {
    "name": "ipython",
    "version": 3
   },
   "file_extension": ".py",
   "mimetype": "text/x-python",
   "name": "python",
   "nbconvert_exporter": "python",
   "pygments_lexer": "ipython3",
   "version": "3.8.3"
  },
  "interpreter": {
   "hash": "b3ba2566441a7c06988d0923437866b63cedc61552a5af99d1f4fb67d367b25f"
  }
 },
 "nbformat": 4,
 "nbformat_minor": 2
}